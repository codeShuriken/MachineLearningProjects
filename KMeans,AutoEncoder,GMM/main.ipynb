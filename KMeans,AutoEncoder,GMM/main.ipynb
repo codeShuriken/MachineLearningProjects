{
 "cells": [
  {
   "cell_type": "markdown",
   "metadata": {},
   "source": [
    "# PART 0: IMPORTS"
   ]
  },
  {
   "cell_type": "code",
   "execution_count": null,
   "metadata": {},
   "outputs": [],
   "source": [
    "import numpy as np\n",
    "import pandas as pd\n",
    "import util_mnist_reader\n",
    "import matplotlib.pyplot as plt\n",
    "\n",
    "from sklearn.cluster import KMeans\n",
    "from sklearn.metrics import accuracy_score\n",
    "from sklearn.metrics import classification_report, confusion_matrix\n",
    "from sklearn import metrics\n",
    "from sklearn.mixture import GaussianMixture\n",
    "\n",
    "from keras.models import Model\n",
    "from keras.layers import Dense, Input, Conv2D, MaxPooling2D, UpSampling2D, Flatten, BatchNormalization"
   ]
  },
  {
   "cell_type": "markdown",
   "metadata": {},
   "source": [
    "# PART 1: K-MEANS CLUSTERING"
   ]
  },
  {
   "cell_type": "code",
   "execution_count": null,
   "metadata": {},
   "outputs": [],
   "source": [
    "#Load Dataset\n",
    "X_train, y_train = util_mnist_reader.load_mnist('data/fashion', kind='train')\n",
    "X_test, y_test = util_mnist_reader.load_mnist('data/fashion', kind='t10k')\n",
    "#print(X_train.shape, X_test.shape, y_test.shape)\n",
    "labelNames = [\"top\", \"trouser\", \"pullover\", \"dress\", \"coat\", \"sandal\", \"shirt\", \"sneaker\", \"bag\", \"ankle boot\"]\n",
    "\n",
    "#Normalize Input\n",
    "X_train = X_train.astype('float32') / 255\n",
    "X_test = X_test.astype('float32') / 255\n",
    "\n",
    "#KMeans\n",
    "kmeans = KMeans(n_clusters=10, random_state=42).fit(X_train)\n",
    "y_preds = kmeans.predict(X_test)\n",
    "#print(y_preds.shape)\n",
    "\n",
    "#Print confusion matrix\n",
    "c_m=confusion_matrix(y_test,y_preds)\n",
    "print(c_m)\n",
    "\n",
    "#Display Accuracy\n",
    "accuracy = metrics.normalized_mutual_info_score(y_test, y_preds, average_method='geometric')\n",
    "print('Accuracy: ', accuracy)\n",
    "print(classification_report(y_test, y_preds, target_names=labelNames))"
   ]
  },
  {
   "cell_type": "markdown",
   "metadata": {},
   "source": [
    "# PART 2: K-MEANS CLUSTERING LAYER USING AUTO-ENCODER NETWORK"
   ]
  },
  {
   "cell_type": "code",
   "execution_count": null,
   "metadata": {},
   "outputs": [],
   "source": [
    "#AutoEncoder\n",
    "X_train = np.reshape(X_train, (len(X_train), 28, 28, 1)) \n",
    "X_test = np.reshape(X_test, (len(X_test), 28, 28, 1))  \n",
    "\n",
    "def autoencoder(input_img):\n",
    "    # Encoder\n",
    "    x = Conv2D(64, (3, 3), activation='relu', padding='same')(input_img)\n",
    "    x - BatchNormalization()(x)\n",
    "    x = MaxPooling2D((2, 2), padding='same')(x)\n",
    "    x = Conv2D(32, (3, 3), activation='relu', padding='same')(x)\n",
    "    x - BatchNormalization()(x)\n",
    "    x = MaxPooling2D((2, 2), padding='same')(x)\n",
    "    x = Conv2D(32, (3, 3), activation='relu', padding='same')(x)\n",
    "    x = BatchNormalization()(x)\n",
    "    encoded = MaxPooling2D((2, 2), padding='same')(x)\n",
    "\n",
    "    #Decoder\n",
    "    x = Conv2D(32, (3, 3), activation='relu', padding='same')(encoded)\n",
    "    x = BatchNormalization()(x)\n",
    "    x = UpSampling2D((2, 2))(x)\n",
    "    x = Conv2D(32, (3, 3), activation='relu', padding='same')(x)\n",
    "    x = BatchNormalization()(x)\n",
    "    x = UpSampling2D((2, 2))(x)\n",
    "    x = Conv2D(64, (3, 3), activation='relu')(x)\n",
    "    x = BatchNormalization()(x)\n",
    "    x = UpSampling2D((2, 2))(x)\n",
    "    decoded = Conv2D(1, (3, 3), activation='sigmoid', padding='same')(x)\n",
    "\n",
    "    return Model(inputs=input_img, outputs=decoded, name='AE'), Model(inputs=input_img, outputs=encoded, name='encoder')\n",
    "\n",
    "\n",
    "#Train AutoEncoder\n",
    "input_img = Input(shape = (28, 28, 1))\n",
    "autoencoder, encoder = autoencoder(input_img)\n",
    "\n",
    "autoencoder.compile(optimizer='RMSprop', loss='binary_crossentropy')\n",
    "autoencoder_train = autoencoder.fit(X_train, X_train,epochs=100,validation_data=(X_test, X_test))\n",
    "\n",
    "autoencoder.save_weights('autoencoder.h5')\n",
    "\n",
    "def plotGraph(history):\n",
    "    plt.figure(1)\n",
    "    plt.plot(history.history['loss'])\n",
    "    plt.plot(history.history['val_loss'])\n",
    "    plt.title('AutoEncoder loss')\n",
    "    plt.ylabel('Loss')\n",
    "    plt.xlabel('Epoch')\n",
    "    plt.legend(['Train', 'Cross-Validation'], loc='upper left')\n",
    "    plt.show()\n",
    "plotGraph(autoencoder_train)"
   ]
  },
  {
   "cell_type": "code",
   "execution_count": null,
   "metadata": {},
   "outputs": [],
   "source": [
    "autoencoder1 = encoder\n",
    "#Copy weights\n",
    "for l1, l2 in zip(autoencoder1.layers[0:8], autoencoder.layers[0:8]):\n",
    "    l1.set_weights(l2.get_weights())\n",
    "autoencoder1.get_weights()[0][1]\n",
    "\n",
    "#Train model using the output from Encoded layer\n",
    "#print(X_train.shape, X_test.shape)\n",
    "encoded_imgs2 = autoencoder1.predict(X_train.reshape(len(X_train), 28, 28, 1))\n",
    "#print(encoded_imgs2.shape)\n",
    "encoded_imgs2=encoded_imgs2.reshape(-1,512)\n",
    "\n",
    "encoded_imgs3 = autoencoder1.predict(X_test.reshape(len(X_test), 28, 28, 1))\n",
    "encoded_imgs3=encoded_imgs3.reshape(-1,512)\n",
    "\n",
    "#Perform k-Means after reducing dimensions using Autoencoder\n",
    "kmeans = KMeans(n_clusters=10, init='random',max_iter=500,random_state=42).fit(encoded_imgs2)\n",
    "#a=kmeans.labels_\n",
    "y_pred=kmeans.predict(encoded_imgs3)\n",
    "\n",
    "#Display confusion matrix and Accuracy\n",
    "c_m2=confusion_matrix(y_test,y_pred)\n",
    "print(c_m2)\n",
    "acc1 = metrics.normalized_mutual_info_score(y_test, y_pred,average_method='geometric')\n",
    "print('Accuracy: ', acc1)"
   ]
  },
  {
   "cell_type": "markdown",
   "metadata": {},
   "source": [
    "# PART 3: GMM USING AUTO-ENCODER NETWORK"
   ]
  },
  {
   "cell_type": "code",
   "execution_count": null,
   "metadata": {},
   "outputs": [],
   "source": [
    "#Perform GMM after reducing dimensions using Autoencoder\n",
    "gmm = GaussianMixture(n_components=10, max_iter=500 ,random_state=42).fit(encoded_imgs2)\n",
    "y_pred1 = gmm.predict(encoded_imgs3)\n",
    "\n",
    "#Display confusion matrix and Accuracy\n",
    "c_m3 = confusion_matrix(y_test, y_pred1)\n",
    "print(c_m3)\n",
    "acc2 = metrics.normalized_mutual_info_score(y_test, y_pred1 ,average_method='geometric') \n",
    "print('Accuracy: ', acc2)"
   ]
  },
  {
   "cell_type": "code",
   "execution_count": null,
   "metadata": {},
   "outputs": [],
   "source": []
  }
 ],
 "metadata": {
  "kernelspec": {
   "display_name": "Python 3",
   "language": "python",
   "name": "python3"
  },
  "language_info": {
   "codemirror_mode": {
    "name": "ipython",
    "version": 3
   },
   "file_extension": ".py",
   "mimetype": "text/x-python",
   "name": "python",
   "nbconvert_exporter": "python",
   "pygments_lexer": "ipython3",
   "version": "3.6.2"
  }
 },
 "nbformat": 4,
 "nbformat_minor": 2
}
